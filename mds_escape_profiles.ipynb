{
 "cells": [
  {
   "cell_type": "markdown",
   "metadata": {},
   "source": [
    "# Multidimensional scaling of antibody escape profiles\n",
    "This Python Jupyter notebook performs multi-dimensional scaling of escape profiles to project the antibodies into two dimensions based on similarity of their escape profiles."
   ]
  },
  {
   "cell_type": "markdown",
   "metadata": {},
   "source": [
    "## Set up analysis\n",
    "Import Python modules:"
   ]
  },
  {
   "cell_type": "code",
   "execution_count": 1,
   "metadata": {},
   "outputs": [],
   "source": [
    "import itertools\n",
    "import os\n",
    "\n",
    "import adjustText\n",
    "\n",
    "from dms_variants.constants import CBPALETTE\n",
    "\n",
    "from IPython.display import display, HTML\n",
    "\n",
    "import matplotlib\n",
    "import matplotlib.pyplot as plt\n",
    "\n",
    "import numpy\n",
    "\n",
    "import pandas as pd\n",
    "\n",
    "import seaborn\n",
    "\n",
    "import sklearn.manifold\n",
    "from sklearn.metrics import euclidean_distances\n",
    "\n",
    "import yaml"
   ]
  },
  {
   "cell_type": "markdown",
   "metadata": {},
   "source": [
    "Read the configuration file:"
   ]
  },
  {
   "cell_type": "code",
   "execution_count": 2,
   "metadata": {},
   "outputs": [],
   "source": [
    "with open('config.yaml') as f:\n",
    "    config = yaml.safe_load(f)"
   ]
  },
  {
   "cell_type": "markdown",
   "metadata": {},
   "source": [
    "Create output directory:"
   ]
  },
  {
   "cell_type": "code",
   "execution_count": 3,
   "metadata": {},
   "outputs": [],
   "source": [
    "os.makedirs(config['mds_dir'], exist_ok=True)"
   ]
  },
  {
   "cell_type": "markdown",
   "metadata": {},
   "source": [
    "Extract from configuration what we will use as the site- and mutation-level metrics:"
   ]
  },
  {
   "cell_type": "code",
   "execution_count": 4,
   "metadata": {},
   "outputs": [
    {
     "name": "stdout",
     "output_type": "stream",
     "text": [
      "At site level, quantifying selection by {'results/escape_scores/escape_fracs.csv': 'site_total_escape_frac_single_mut', 'results/prior_DMS_data/early2020_escape_fracs.csv': 'site_total_escape_frac_epistasis_model', 'results/prior_DMS_data/beta_escape_fracs.csv': 'site_total_escape_frac_single_mut'}\n"
     ]
    }
   ],
   "source": [
    "escape_frac_types = config['escape_frac_files']\n",
    "escape_frac_files = [config[f] for f in escape_frac_types]\n",
    "site_metrics = {config[f]:config[f'{f[:-12]}site_metric'] for f in escape_frac_types}\n",
    "\n",
    "print(f\"At site level, quantifying selection by {site_metrics}\")"
   ]
  },
  {
   "cell_type": "markdown",
   "metadata": {},
   "source": [
    "## Read samples and escape fractions\n",
    "Read the escape fractions.\n",
    "We only retain the **average** of the libraries for plotting here, not the individual libraries.\n",
    "Also, we work in the full-Spike rather than RBD numbering, which means we use `label_site` as `site` (and so rename as such below):"
   ]
  },
  {
   "cell_type": "code",
   "execution_count": 5,
   "metadata": {},
   "outputs": [],
   "source": [
    "escape_fracs_dfs = []\n",
    "\n",
    "for f in escape_frac_files:\n",
    "    \n",
    "    site_metric = site_metrics[f]\n",
    "\n",
    "    df = (pd.read_csv(f)\n",
    "          .query('library == \"average\"')\n",
    "          .drop(columns=['site', 'selection', 'library'])\n",
    "          .rename(columns={'label_site': 'site',\n",
    "                           site_metric: 'site_escape'\n",
    "                          }\n",
    "                 )\n",
    "          [['condition', 'site', 'site_escape']]\n",
    "         )\n",
    "    escape_fracs_dfs.append(df)\n",
    "\n",
    "escape_fracs=pd.concat(escape_fracs_dfs)\n",
    "\n",
    "# because we are using different site metrics depending on the original study\n",
    "site_metric='site_escape'"
   ]
  },
  {
   "cell_type": "markdown",
   "metadata": {},
   "source": [
    "## Get antibody sets for each multidimensional scaling\n",
    "We have manually specified configurations for the MDS plots in a YAML file.\n",
    "We will do multi-dimensional scaling for each antibody/sera set specified in this file:"
   ]
  },
  {
   "cell_type": "code",
   "execution_count": 6,
   "metadata": {},
   "outputs": [
    {
     "name": "stdout",
     "output_type": "stream",
     "text": [
      "Reading MDS configuration from data/mds_config.yaml\n",
      "Reading the site color schemes from data/site_color_schemes.csv\n"
     ]
    }
   ],
   "source": [
    "print(f\"Reading MDS configuration from {config['mds_config']}\")\n",
    "with open(config['mds_config']) as f:\n",
    "    mds_config = yaml.safe_load(f)\n",
    "    \n",
    "print(f\"Reading the site color schemes from {config['site_color_schemes']}\")\n",
    "site_color_schemes = pd.read_csv(config['site_color_schemes'])"
   ]
  },
  {
   "cell_type": "markdown",
   "metadata": {},
   "source": [
    "## Multidimensional scaling\n",
    "Note that there are three main steps here:\n",
    " 1. Calculate similarities between profiles of each antibody.\n",
    " 2. Convert similarities to dissimilarities.\n",
    " 3. Do multi-dimensional scaling and plot the results.\n",
    "\n",
    "First, define a function to compute the similarity between all pairs of escape profiles in a data frame.\n",
    "We calculate similarity as the dot product of the escape profiles for each pair of conditions, using the site-level metric and normalizing each profile so it's dot product with itself is one.\n",
    "Importantly, we raise the site-level metric to the $p$ power in order to emphasize sites with large values (essentially a p-norm):"
   ]
  },
  {
   "cell_type": "code",
   "execution_count": 7,
   "metadata": {},
   "outputs": [],
   "source": [
    "def escape_similarity(df, p=1):\n",
    "    \"\"\"Compute similarity between all pairs of conditions in `df`.\"\"\"\n",
    "    df = df[['condition', 'site', site_metric]].drop_duplicates()\n",
    "    assert not df.isnull().any().any()\n",
    "    \n",
    "    conditions = df['condition'].unique()\n",
    "    similarities = []\n",
    "    pivoted_df = (\n",
    "        df\n",
    "        .assign(metric=lambda x: x[site_metric]**p)\n",
    "        .pivot_table(index='site', columns='condition', values='metric', fill_value=0)\n",
    "        # for normalization: https://stackoverflow.com/a/58113206\n",
    "        # to get norm: https://stackoverflow.com/a/47953601\n",
    "        .transform(lambda x: x / numpy.linalg.norm(x, axis=0))\n",
    "        )\n",
    "    for cond1, cond2 in itertools.product(conditions, conditions):\n",
    "        similarity = (\n",
    "            pivoted_df\n",
    "            .assign(similarity=lambda x: x[cond1] * x[cond2])\n",
    "            ['similarity']\n",
    "            )\n",
    "        assert similarity.notnull().all()  # make sure no sites have null values\n",
    "        similarities.append(similarity.sum())  # sum of similarities over sites\n",
    "    return pd.DataFrame(numpy.array(similarities).reshape(len(conditions), len(conditions)),\n",
    "                        columns=conditions, index=conditions)"
   ]
  },
  {
   "cell_type": "markdown",
   "metadata": {},
   "source": [
    "Define function to compute dissimilarity $d$ from the similarity $s$.\n",
    "Options are:\n",
    "  - **one_minus**: $d = 1 - s$\n",
    "  - **minus_log**: $d = -\\ln s$"
   ]
  },
  {
   "cell_type": "code",
   "execution_count": 8,
   "metadata": {},
   "outputs": [],
   "source": [
    "def dissimilarity(similarity, method='one_minus'):\n",
    "    if method == 'one_minus':\n",
    "        return 1 - similarity\n",
    "    elif method == 'minus_log':\n",
    "        return -numpy.log(similarity)\n",
    "    else:\n",
    "        raise ValueError(f\"invalid `method` {method}\")"
   ]
  },
  {
   "cell_type": "markdown",
   "metadata": {},
   "source": [
    "Now compute the similarities and dissimilarities, and do the multidimensional scaling [as described here](https://scikit-learn.org/stable/auto_examples/manifold/plot_mds.html#sphx-glr-auto-examples-manifold-plot-mds-py).\n",
    "We do this just for the antibody combinations for which such a plot is specified in the escape profiles configuration file.\n",
    "We then plot the multidimensional scaling, using [adjustTexts](https://adjusttext.readthedocs.io/) to repel the labels and following [here](https://stackoverflow.com/q/56337732) to draw pie charts that color the points according to the site-coloring scheme if specified in configuration.\n",
    "These pie charts color by the fraction of the squared site escape apportioned to each site category."
   ]
  },
  {
   "cell_type": "code",
   "execution_count": 9,
   "metadata": {},
   "outputs": [
    {
     "name": "stdout",
     "output_type": "stream",
     "text": [
      "\n",
      "Making plot all, which has the following antibodies:\n",
      "['P02_repeat_500', 'P03_repeat_1250', 'P04_repeat_1250', 'P05_repeat_500', 'P08_repeat_500', 'P09_repeat_200', 'P12_repeat_200', 'P14_repeat_1250', 'M02-day-119_200', 'M05-day-119_500', 'M08-day-119_200', 'M10-day-119_200', 'M12-day-119_200', 'M16-day-119_1250', 'M17-day-119_200', 'M18-day-119_80', 'M19-day-119_200', 'M01-day-119_80', 'M03-day-119_200', 'M04-day-119_200', 'M06-day-119_80', 'M07-day-119_200', 'M09-day-119_500', 'M11-day-119_200', 'M13-day-119_200', 'M14-day-119_500', 'M20-day-119_200', 'M21-day-119_200', 'M22-day-119_200', 'M23-day-119_200', '12C_d61_160', '13_d15_200', '1C_d26_200', '22C_d28_200', '23C_d26_80', '23_d21_1250', '24C_d32_200', '25C_d48_200', '25_d18_500', '6C_d33_500', '7C_d29_500', 'COV-021_500', 'COV-047_200', 'COV-057_50', 'COV-072_200', 'COV-107_80', 'C105_400', 'CB6_400', 'COV2-2165_400', 'COV2-2196_400', 'COV2-2832_400', 'REGN10933_400', 'C002_400', 'C121_400', 'C144_400', 'COV2-2479_400', 'LY-CoV555_400', 'COV2-2050_400', 'C110_400', 'C135_400', 'COV2-2096_400', 'COV2-2130_400', 'COV2-2499_400', 'REGN10987_400', 'COV2-2082_400', 'COV2-2094_400', 'COV2-2677_400', 'CR3022_400', '267C_repeat_200', '268C_repeat_500', '273C_repeat_500', '274C_repeat_500', '276C_repeat_500', '277C_repeat_500', '278C_repeat_1250', '279C_repeat_1250', 'Delta_1_500', 'Delta_3_350', 'Delta_4_350', 'Delta_6_500', 'Delta_7_1250', 'Delta_8_500', 'Delta_10_1250', 'Delta_11_500', 'K007_500', 'K031_500', 'K033_500', 'K040_500', 'K041_500', 'K046_200', 'K114_200', 'K115_old_80', 'K119_200']\n",
      "stress = 67.30076222044937 from iteration 936\n",
      "Manual calculus of sklearn stress : 67.30075046008085\n",
      "Kruskal's Stress : 0.20853602197601526\n",
      "[Poor > 0.2 > Fair > 0.1 > Good > 0.05 > Excellent > 0.025 > Perfect > 0.0]\n",
      "Using condition-level color scheme in column class_color of data/mds_color_schemes.csv\n",
      "Saving plot to results/multidimensional_scaling/all_mds.pdf\n"
     ]
    },
    {
     "data": {
      "image/png": "[encoded data removed]",
      "text/plain": [
       "<Figure size 396x396 with 1 Axes>"
      ]
     },
     "metadata": {},
     "output_type": "display_data"
    }
   ],
   "source": [
    "# which method do we use to compute dissimilarity?\n",
    "dissimilarity_method = 'one_minus'\n",
    "\n",
    "# do we also plot similarity / dissimilarity matrices?\n",
    "plot_similarity = False\n",
    "\n",
    "# function to draw colored pie for each point.\n",
    "def draw_pie(dist, xpos, ypos, size, ax, colors, alpha, circle_color):\n",
    "    \"\"\"Based on this: https://stackoverflow.com/q/56337732\"\"\"\n",
    "    # for incremental pie slices\n",
    "    cumsum = numpy.cumsum(dist)\n",
    "    cumsum = cumsum / cumsum[-1]\n",
    "    pie = [0] + cumsum.tolist()\n",
    "\n",
    "    assert len(colors) == len(dist)\n",
    "    for r1, r2, color in zip(pie[:-1], pie[1:], colors):\n",
    "        angles = numpy.linspace(2 * numpy.pi * r1, 2 * numpy.pi * r2)\n",
    "        x = [0] + numpy.cos(angles).tolist()\n",
    "        y = [0] + numpy.sin(angles).tolist()\n",
    "\n",
    "        xy = numpy.column_stack([x, y])\n",
    "\n",
    "        ax.scatter([xpos], [ypos], marker=xy, s=size, facecolors=color, alpha=alpha, edgecolors='none')\n",
    "        ax.scatter(xpos, ypos, marker='o', s=size, edgecolors=circle_color,\n",
    "                   facecolors='none', alpha=alpha)\n",
    "\n",
    "    return ax\n",
    "\n",
    "# loop over combinations to plot\n",
    "for name, specs in mds_config.items():\n",
    "    \n",
    "    # get data frame with just the conditions we want to plot, also re-naming them\n",
    "    conditions_to_plot = list(specs['conditions'].keys())\n",
    "    print(f\"\\nMaking plot {name}, which has the following antibodies:\\n{conditions_to_plot}\")\n",
    "    assert len(conditions_to_plot) == len(set(specs['conditions'].values()))\n",
    "    assert set(conditions_to_plot).issubset(set(escape_fracs['condition']))\n",
    "    df = (escape_fracs\n",
    "          .query('condition in @conditions_to_plot')\n",
    "          .assign(condition=lambda x: x['condition'].map(specs['conditions']))\n",
    "          )\n",
    "    \n",
    "    # compute similarities and dissimilarities\n",
    "    similarities = escape_similarity(df)\n",
    "    dissimilarities = similarities.applymap(lambda x: dissimilarity(x, method=dissimilarity_method))\n",
    "    conditions = df['condition'].unique()\n",
    "    assert all(conditions == similarities.columns) and all(conditions == similarities.index)\n",
    "    n = len(conditions)\n",
    "    \n",
    "    # plot similarities\n",
    "    if plot_similarity:\n",
    "        for title, data in [('Similarities', similarities), ('Dissimilarities', dissimilarities)]:\n",
    "            fig, ax = plt.subplots(figsize=(0.8 * n, 0.7 * n))\n",
    "            _ = seaborn.heatmap(data, annot=True, ax=ax)\n",
    "            plt.title(f\"{title} for {name}\", size=16)\n",
    "            plt.show(fig)\n",
    "            plt.close(fig)\n",
    "    \n",
    "    # use multidimensional scaling to get locations of antibodies\n",
    "    mds = sklearn.manifold.MDS(n_components=2,\n",
    "                               metric=True,\n",
    "                               max_iter=3000,\n",
    "                               eps=1e-6,\n",
    "                               random_state=1 if 'random_state' not in specs else specs['random_state'],\n",
    "                               dissimilarity='precomputed',\n",
    "                               n_jobs=1)\n",
    "    locs = mds.fit_transform(dissimilarities)\n",
    "    \n",
    "    print(f\"stress = {getattr(mds,'stress_')} from iteration {getattr(mds,'n_iter_')}\")\n",
    "    \n",
    "    # the `sklearn` stress is not scaled, so we manually calculate a scaled Kruskal stress\n",
    "    # as shown here: https://stackoverflow.com/questions/36428205/stress-attribute-sklearn-manifold-mds-python/64271501#64271501\n",
    "    # manually calculate stress (unscaled)\n",
    "    points = mds.embedding_\n",
    "    DE = euclidean_distances(points)\n",
    "    stress = 0.5 * numpy.sum((DE - dissimilarities.values)**2)\n",
    "    print(f\"Manual calculus of sklearn stress : {stress}\")\n",
    "    \n",
    "    ## Kruskal's stress (or stress formula 1)\n",
    "    stress1 = numpy.sqrt(stress / (0.5 * numpy.sum(dissimilarities.values**2)))\n",
    "    print(f\"Kruskal's Stress : {stress1}\")\n",
    "    print(\"[Poor > 0.2 > Fair > 0.1 > Good > 0.05 > Excellent > 0.025 > Perfect > 0.0]\")\n",
    "\n",
    "    # get the colors for each point if relevant\n",
    "    color_scheme = specs['color_scheme']\n",
    "    if isinstance(color_scheme, list):\n",
    "        color_csv, color_col = color_scheme\n",
    "        print(f\"Using condition-level color scheme in column {color_col} of {color_csv}\")\n",
    "        dists = [[1] for condition in conditions]\n",
    "        condition_to_color = pd.read_csv(color_csv).set_index('condition')[color_col].to_dict()\n",
    "        if not set(conditions).issubset(set(condition_to_color)):\n",
    "            raise ValueError(f\"{color_scheme} doesn't have colors for all conditions: {conditions}\")\n",
    "        colors = [[condition_to_color[condition]] for condition in conditions]\n",
    "    elif color_scheme in site_color_schemes.columns:\n",
    "        print(f\"Using the {color_scheme} site color scheme\")\n",
    "        site_colors = site_color_schemes.set_index('site')[color_scheme].to_dict()\n",
    "        df = df.assign(color=lambda x: x['site'].map(site_colors))\n",
    "        dists = []\n",
    "        colors = []\n",
    "        for condition, condition_df in (\n",
    "                df\n",
    "                [['condition', 'color', 'site', site_metric]]\n",
    "                .drop_duplicates()\n",
    "                .assign(site_metric2=lambda x: x[site_metric]**2)  # color in proportion to **square** of site escape\n",
    "                .groupby(['condition', 'color'])\n",
    "                .aggregate(tot_escape=pd.NamedAgg('site_metric2', 'sum'))\n",
    "                .reset_index()\n",
    "                .sort_values('tot_escape', ascending=False)\n",
    "                .assign(condition=lambda x: pd.Categorical(x['condition'], conditions, ordered=True))\n",
    "                .groupby('condition', sort=True)\n",
    "                ):\n",
    "            dists.append(condition_df['tot_escape'].tolist())\n",
    "            colors.append(condition_df['color'].tolist())\n",
    "    else:\n",
    "        print(f\"Coloring all points {color_scheme}\")\n",
    "        dists = [[1] for conditition in conditions]\n",
    "        colors = [[color_scheme] for condition in conditions]\n",
    "        \n",
    "    # get circle / label colors\n",
    "    if 'default_circle_color' in specs:\n",
    "        default_circle_color = specs['default_circle_color']\n",
    "    else:\n",
    "        default_circle_color = 'none'\n",
    "    if 'default_label_color' in specs:\n",
    "        default_label_color = specs['default_label_color']\n",
    "    else:\n",
    "        default_label_color = 'black'\n",
    "    circle_colors = []\n",
    "    label_colors = []\n",
    "    for condition in conditions:\n",
    "        if 'circle_colors' in specs and condition in specs['circle_colors']:\n",
    "            circle_colors.append(specs['circle_colors'][condition])\n",
    "        else:\n",
    "            circle_colors.append(default_circle_color)\n",
    "        if 'label_colors' in specs and condition in specs['label_colors']:\n",
    "            label_colors.append(specs['label_colors'][condition])\n",
    "        else:\n",
    "            label_colors.append(default_label_color)\n",
    "    \n",
    "    # plot the multidimensional scaling result\n",
    "    plot_size = 4 if 'plot_size' not in specs else specs['plot_size']\n",
    "    fig, ax = plt.subplots(figsize=(plot_size, plot_size))\n",
    "    xs = locs[:, 0]\n",
    "    ys = locs[:, 1]\n",
    "    for x, y, dist, color, circle_color in zip(xs, ys, dists, colors, circle_colors):\n",
    "        draw_pie(dist, x, y,\n",
    "                 size=300 if 'pie_size' not in specs else specs['pie_size'],\n",
    "                 ax=ax,\n",
    "                 colors=color,\n",
    "                 alpha=0.7 if 'pie_alpha' not in specs else specs['pie_alpha'],\n",
    "                 circle_color=circle_color,\n",
    "                 )\n",
    "    ax.set_aspect('equal', adjustable='box')  # same distance on both axes\n",
    "    ax.set_xticks([])  # no x-ticks\n",
    "    ax.set_yticks([])  # no y-ticks\n",
    "    ax.margins(0.09)  # increase padding from axes\n",
    "    if 'no_labels' not in specs or not specs['no_labels']:\n",
    "        texts = [plt.text(x, y, label, color=color) for x, y, label, color\n",
    "                 in zip(xs, ys, conditions, label_colors)]\n",
    "        adjustText.adjust_text(texts,\n",
    "                               x=xs,\n",
    "                               y=ys,\n",
    "                               expand_points=(1.2, 1.6) if 'expand_points' not in specs\n",
    "                                             else specs['expand_points'],\n",
    "                               )\n",
    "    plotfile = os.path.join(config['mds_dir'], f\"{name}_mds.pdf\")\n",
    "    print(f\"Saving plot to {plotfile}\")\n",
    "    fig.savefig(plotfile, bbox_inches='tight')\n",
    "    plt.show(fig)\n",
    "    plt.close(fig)"
   ]
  },
  {
   "cell_type": "code",
   "execution_count": null,
   "metadata": {},
   "outputs": [],
   "source": []
  }
 ],
 "metadata": {
  "language_info": {
   "name": "python"
  }
 },
 "nbformat": 4,
 "nbformat_minor": 4
}
