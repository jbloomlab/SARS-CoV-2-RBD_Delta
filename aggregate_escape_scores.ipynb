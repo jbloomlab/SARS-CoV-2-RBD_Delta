{
 "cells": [
  {
   "cell_type": "markdown",
   "metadata": {},
   "source": [
    "# Aggregate antibody-escape scores from all studies and libraries\n",
    "In this repo, we are using antibody-escape scores from multiple projects mapped against multiple different RBD libraries and initially analyzed elsewhere. \n",
    "\n",
    "This Python Jupyter notebook aggregates all these antibody-escape scores and makes one supplementary file containing all of them."
   ]
  },
  {
   "cell_type": "markdown",
   "metadata": {},
   "source": [
    "## Set up\n",
    "Import Python modules:"
   ]
  },
  {
   "cell_type": "code",
   "execution_count": 1,
   "metadata": {},
   "outputs": [],
   "source": [
    "import itertools\n",
    "import os\n",
    "\n",
    "from IPython.display import display, HTML\n",
    "\n",
    "import matplotlib.pyplot as plt\n",
    "\n",
    "import pandas as pd\n",
    "\n",
    "from plotnine import *\n",
    "\n",
    "import yaml"
   ]
  },
  {
   "cell_type": "markdown",
   "metadata": {},
   "source": [
    "Read the configuration file:"
   ]
  },
  {
   "cell_type": "code",
   "execution_count": 2,
   "metadata": {},
   "outputs": [],
   "source": [
    "with open('config.yaml') as f:\n",
    "    config = yaml.safe_load(f)"
   ]
  },
  {
   "cell_type": "markdown",
   "metadata": {},
   "source": [
    "Create output directory:"
   ]
  },
  {
   "cell_type": "code",
   "execution_count": 3,
   "metadata": {},
   "outputs": [],
   "source": [
    "os.makedirs(config['supp_data_dir'], exist_ok=True)"
   ]
  },
  {
   "cell_type": "markdown",
   "metadata": {},
   "source": [
    "Extract from configuration what we will use as the site- and mutation-level metrics:"
   ]
  },
  {
   "cell_type": "code",
   "execution_count": 4,
   "metadata": {},
   "outputs": [
    {
     "name": "stdout",
     "output_type": "stream",
     "text": [
      "['escape_fracs', 'early2020_escape_fracs', 'beta_escape_fracs']\n",
      "At site level, quantifying selection by:\n",
      "\tescape_fracs: site_total_escape_frac_single_mut\n",
      "\tearly2020_escape_fracs: site_total_escape_frac_epistasis_model\n",
      "\tbeta_escape_fracs: site_total_escape_frac_single_mut\n",
      "At mutation level, quantifying selection by:\n",
      "\tescape_fracs: mut_escape_frac_single_mut\n",
      "\tearly2020_escape_fracs: mut_escape_frac_epistasis_model\n",
      "\tbeta_escape_fracs: mut_escape_frac_single_mut\n"
     ]
    }
   ],
   "source": [
    "escape_frac_types = config['escape_frac_files']\n",
    "escape_frac_files = [config[f] for f in escape_frac_types]\n",
    "site_metrics = {config[f]:config[f'{f[:-12]}site_metric'] for f in escape_frac_types}\n",
    "mut_metrics = {config[f]:config[f'{f[:-12]}mut_metric'] for f in escape_frac_types}\n",
    "escape_frac_libraries = config['escape_frac_libraries']\n",
    "\n",
    "print(escape_frac_types)\n",
    "print('At site level, quantifying selection by:')\n",
    "for f in escape_frac_types:\n",
    "    print(f'\\t{f}: {site_metrics[config[f]]}')\n",
    "\n",
    "print('At mutation level, quantifying selection by:')\n",
    "for f in escape_frac_types:\n",
    "    print(f'\\t{f}: {mut_metrics[config[f]]}')"
   ]
  },
  {
   "cell_type": "markdown",
   "metadata": {},
   "source": [
    "Read the escape fractions"
   ]
  },
  {
   "cell_type": "code",
   "execution_count": 5,
   "metadata": {},
   "outputs": [
    {
     "name": "stdout",
     "output_type": "stream",
     "text": [
      "First few lines of escape-fraction data frame:\n"
     ]
    },
    {
     "data": {
      "text/html": [
       "<table border=\"1\" class=\"dataframe\">\n",
       "  <thead>\n",
       "    <tr style=\"text-align: right;\">\n",
       "      <th>condition</th>\n",
       "      <th>site</th>\n",
       "      <th>wildtype</th>\n",
       "      <th>mutation</th>\n",
       "      <th>mut_escape</th>\n",
       "      <th>site_total_escape</th>\n",
       "      <th>site_max_escape</th>\n",
       "      <th>library</th>\n",
       "      <th>class</th>\n",
       "    </tr>\n",
       "  </thead>\n",
       "  <tbody>\n",
       "    <tr>\n",
       "      <td>P02</td>\n",
       "      <td>NaN</td>\n",
       "      <td>NaN</td>\n",
       "      <td>NaN</td>\n",
       "      <td>NaN</td>\n",
       "      <td>NaN</td>\n",
       "      <td>NaN</td>\n",
       "      <td>NaN</td>\n",
       "      <td>2x BNT162b2</td>\n",
       "    </tr>\n",
       "    <tr>\n",
       "      <td>P03</td>\n",
       "      <td>NaN</td>\n",
       "      <td>NaN</td>\n",
       "      <td>NaN</td>\n",
       "      <td>NaN</td>\n",
       "      <td>NaN</td>\n",
       "      <td>NaN</td>\n",
       "      <td>NaN</td>\n",
       "      <td>2x BNT162b2</td>\n",
       "    </tr>\n",
       "    <tr>\n",
       "      <td>P04</td>\n",
       "      <td>NaN</td>\n",
       "      <td>NaN</td>\n",
       "      <td>NaN</td>\n",
       "      <td>NaN</td>\n",
       "      <td>NaN</td>\n",
       "      <td>NaN</td>\n",
       "      <td>NaN</td>\n",
       "      <td>2x BNT162b2</td>\n",
       "    </tr>\n",
       "    <tr>\n",
       "      <td>P05</td>\n",
       "      <td>NaN</td>\n",
       "      <td>NaN</td>\n",
       "      <td>NaN</td>\n",
       "      <td>NaN</td>\n",
       "      <td>NaN</td>\n",
       "      <td>NaN</td>\n",
       "      <td>NaN</td>\n",
       "      <td>2x BNT162b2</td>\n",
       "    </tr>\n",
       "    <tr>\n",
       "      <td>P08</td>\n",
       "      <td>NaN</td>\n",
       "      <td>NaN</td>\n",
       "      <td>NaN</td>\n",
       "      <td>NaN</td>\n",
       "      <td>NaN</td>\n",
       "      <td>NaN</td>\n",
       "      <td>NaN</td>\n",
       "      <td>2x BNT162b2</td>\n",
       "    </tr>\n",
       "  </tbody>\n",
       "</table>"
      ],
      "text/plain": [
       "<IPython.core.display.HTML object>"
      ]
     },
     "metadata": {},
     "output_type": "display_data"
    },
    {
     "name": "stdout",
     "output_type": "stream",
     "text": [
      "Writing to results/supp_data/aggregate_raw_data.csv\n"
     ]
    }
   ],
   "source": [
    "escape_fracs_dfs = []\n",
    "\n",
    "for f,l in zip(escape_frac_files, escape_frac_types):\n",
    "    \n",
    "    site_metric = site_metrics[f]\n",
    "    mut_metric = mut_metrics[f]\n",
    "    \n",
    "    library = escape_frac_libraries[l]\n",
    "\n",
    "    df = (pd.read_csv(f)\n",
    "          .query('library == \"average\"')\n",
    "          .drop(columns=['site', 'selection', 'library'])\n",
    "          .rename(columns={'label_site': 'site',\n",
    "                           site_metric: 'site_total_escape',\n",
    "                           mut_metric: 'mut_escape'\n",
    "                          }\n",
    "                 )\n",
    "          [['condition', 'site', 'wildtype', 'mutation', 'mut_escape', 'site_total_escape']]\n",
    "          .assign(site_max_escape=lambda x: x.groupby(['condition', 'site'])['mut_escape'].transform('max'),\n",
    "                  library=library,\n",
    "                 )\n",
    "         )\n",
    "    escape_fracs_dfs.append(df)\n",
    "\n",
    "escape_fracs=(pd.concat(escape_fracs_dfs)\n",
    "              .merge(pd.read_csv(config['aggregate_escape_scores_metadata_file']),\n",
    "                     how='right',\n",
    "                     on='condition',\n",
    "                     validate='many_to_one'\n",
    "                    )\n",
    "              .assign(condition=lambda x: x['name'])\n",
    "              .drop(columns=['name'])\n",
    "             )\n",
    "\n",
    "# pd.read_csv(config['aggregate_escape_scores_metadata_file'])\n",
    "\n",
    "print('First few lines of escape-fraction data frame:')\n",
    "display(HTML(escape_fracs.head().to_html(index=False)))\n",
    "\n",
    "csv_file = config['aggregate_escape_scores_file']\n",
    "print(f\"Writing to {csv_file}\")\n",
    "escape_fracs.to_csv(csv_file, index=False, float_format='%.4g')"
   ]
  },
  {
   "cell_type": "code",
   "execution_count": null,
   "metadata": {},
   "outputs": [],
   "source": []
  }
 ],
 "metadata": {
  "language_info": {
   "name": "python"
  }
 },
 "nbformat": 4,
 "nbformat_minor": 4
}
